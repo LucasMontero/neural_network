{
  "nbformat": 4,
  "nbformat_minor": 0,
  "metadata": {
    "colab": {
      "name": "neural_network.ipynb",
      "version": "0.3.2",
      "provenance": [],
      "collapsed_sections": [],
      "include_colab_link": true
    },
    "kernelspec": {
      "name": "python3",
      "display_name": "Python 3"
    }
  },
  "cells": [
    {
      "cell_type": "markdown",
      "metadata": {
        "id": "view-in-github",
        "colab_type": "text"
      },
      "source": [
        "<a href=\"https://colab.research.google.com/github/LucasMontero/neural_network/blob/master/neural_network.ipynb\" target=\"_parent\"><img src=\"https://colab.research.google.com/assets/colab-badge.svg\" alt=\"Open In Colab\"/></a>"
      ]
    },
    {
      "cell_type": "code",
      "metadata": {
        "id": "Ixm5oZcuoPbU",
        "colab_type": "code",
        "colab": {}
      },
      "source": [
        "import numpy as np\n",
        "import scipy as sc\n",
        "import matplotlib.pyplot as plt\n",
        "\n",
        "from sklearn.datasets import make_circles"
      ],
      "execution_count": 0,
      "outputs": []
    },
    {
      "cell_type": "code",
      "metadata": {
        "id": "gt8BKwvWo1Pa",
        "colab_type": "code",
        "colab": {
          "base_uri": "https://localhost:8080/",
          "height": 269
        },
        "outputId": "c0beaff3-5406-4510-e5cf-f1fbbf398f91"
      },
      "source": [
        "# Dataset creation\n",
        "\n",
        "n = 500\n",
        "p = 2\n",
        "\n",
        "X, Y = make_circles(n_samples = n, factor = 0.5, noise = 0.05)\n",
        "\n",
        "plt.scatter(X[Y == 0 , 0], X[Y == 0 ,1], c='skyblue')\n",
        "plt.scatter(X[Y == 1 , 0], X[Y == 1 ,1], c='salmon')\n",
        "plt.axis('equal')\n",
        "plt.show()"
      ],
      "execution_count": 11,
      "outputs": [
        {
          "output_type": "display_data",
          "data": {
            "image/png": "[encoded data removed]",
            "text/plain": [
              "<Figure size 432x288 with 1 Axes>"
            ]
          },
          "metadata": {
            "tags": []
          }
        }
      ]
    },
    {
      "cell_type": "code",
      "metadata": {
        "id": "j5cBW87JqfFq",
        "colab_type": "code",
        "colab": {}
      },
      "source": [
        "# Network layer class\n",
        "\n",
        "class neural_layer():\n",
        "  def __init__(self, n_connections, n_neurons, activation_function):\n",
        "    \n",
        "    self.activation_function = activation_function\n",
        "    \n",
        "    self.bias = np.random.rand(1, n_neurons)          * 2 -1\n",
        "    self.W = np.random.rand(n_connections, n_neurons) * 2 -1"
      ],
      "execution_count": 0,
      "outputs": []
    },
    {
      "cell_type": "code",
      "metadata": {
        "id": "TxeSmtFjsHfQ",
        "colab_type": "code",
        "colab": {}
      },
      "source": [
        "# Activation functions\n",
        "\n",
        "sigmoid = (lambda x: 1/(1 + np.e ** (-x)),\n",
        "           lambda x: x * (1-x))\n",
        "\n",
        "relu = lambda x : np.maximum(0, x)\n",
        "\n",
        "# representation\n",
        "# _x = np.linspace(-5, 5, 100)\n",
        "# plt.plot(_x, sigmoid[1](_x))"
      ],
      "execution_count": 0,
      "outputs": []
    },
    {
      "cell_type": "code",
      "metadata": {
        "id": "kh2kqJn2wRHY",
        "colab_type": "code",
        "colab": {
          "base_uri": "https://localhost:8080/",
          "height": 124
        },
        "outputId": "d892c5fa-3e31-4dd8-c288-6eb422368d11"
      },
      "source": [
        "layer0 = neural_layer(p, 4, sigmoid)\n",
        "layer1 = neural_layer(4, 8, sigmoid)\n",
        "# ...\n",
        "\n",
        "def create_neural_network(topology, activation_function):\n",
        "  \n",
        "  neural_network = []\n",
        "  \n",
        "  for i, layer in enumerate(topology[:-1]):\n",
        "    neural_network.append(neural_layer(topology[i], topology[i+1], activation_function))\n",
        "    \n",
        "  return neural_network\n",
        "\n",
        "topology = [p, 4, 8, 16, 8, 4, 1]\n",
        "\n",
        "create_neural_network(topology, sigmoid)\n",
        "  "
      ],
      "execution_count": 24,
      "outputs": [
        {
          "output_type": "execute_result",
          "data": {
            "text/plain": [
              "[<__main__.neural_layer at 0x7f74cd65a4e0>,\n",
              " <__main__.neural_layer at 0x7f74cd9157f0>,\n",
              " <__main__.neural_layer at 0x7f74cd915860>,\n",
              " <__main__.neural_layer at 0x7f74cd915e80>,\n",
              " <__main__.neural_layer at 0x7f74cd9159b0>,\n",
              " <__main__.neural_layer at 0x7f74cd915320>]"
            ]
          },
          "metadata": {
            "tags": []
          },
          "execution_count": 24
        }
      ]
    }
  ]
}